{
 "cells": [
  {
   "cell_type": "code",
   "execution_count": 1,
   "id": "2f37f8a4",
   "metadata": {},
   "outputs": [],
   "source": [
    "from sklearn.model_selection import KFold\n",
    "from sklearn.metrics import r2_score\n"
   ]
  },
  {
   "cell_type": "code",
   "execution_count": null,
   "id": "9cb674f1",
   "metadata": {},
   "outputs": [],
   "source": [
    "def KFold_function(model, n_splits, X_train, y_train):\n",
    "    scores = []\n",
    "    KF = KFold(n_splits=n_splits)\n",
    "    for train_index, val_index in KFold.split(X_train):\n",
    "        X_train_fold, X_val_fold = X_train.iloc[train_index], X_train.iloc[val_index]\n",
    "        y_train_fold, y_val_fold = y_train.iloc[train_index], y_train.iloc[val_index]\n",
    "        \n",
    "        func_model = model.fit(X_train_fold, y_train_fold)\n",
    "        \n",
    "        preds = func_model.predict(X_val_fold)",
    "        \n",
    "        score = r2_score(y_val_fold, preds)",
    "        \n",
    "        scores.append(score)"
   ]
  }
 ],
 "metadata": {
  "kernelspec": {
   "display_name": "Python 3 (ipykernel)",
   "language": "python",
   "name": "python3"
  },
  "language_info": {
   "codemirror_mode": {
    "name": "ipython",
    "version": 3
   },
   "file_extension": ".py",
   "mimetype": "text/x-python",
   "name": "python",
   "nbconvert_exporter": "python",
   "pygments_lexer": "ipython3",
   "version": "3.11.5"
  }
 },
 "nbformat": 4,
 "nbformat_minor": 5
}
